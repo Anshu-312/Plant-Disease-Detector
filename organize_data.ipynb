{
 "cells": [
  {
   "cell_type": "code",
   "execution_count": 1,
   "metadata": {},
   "outputs": [
    {
     "name": "stdout",
     "output_type": "stream",
     "text": [
      "Train Image Dimensions (First 5): [(256, 256), (256, 256), (256, 256), (256, 256), (256, 256)]\n",
      "Test Image Dimensions (First 5): []\n",
      "Valid Image Dimensions (First 5): [(256, 256), (256, 256), (256, 256), (256, 256), (256, 256)]\n",
      "Average Train Image Dimension: (256.0, 256.0)\n",
      "Average Valid Image Dimension: (256.0, 256.0)\n"
     ]
    }
   ],
   "source": [
    "import os\n",
    "from PIL import Image\n",
    "\n",
    "def count_images_and_get_dimensions(data):\n",
    "    dimensions = []\n",
    "    \n",
    "    for root, dirs, files in os.walk(data):\n",
    "        for file in files:\n",
    "            if file.endswith(('.jpg', '.jpeg', '.png', '.bmp', '.tiff')):\n",
    "                # Get image dimensions\n",
    "                try:\n",
    "                    image_path = os.path.join(root, file)\n",
    "                    with Image.open(image_path) as img:\n",
    "                        width, height = img.size\n",
    "                        dimensions.append((width, height))\n",
    "                except Exception as e:\n",
    "                    print(f\"Error reading {file}: {e}\")\n",
    "                    \n",
    "    return dimensions\n",
    "\n",
    "# Paths to your dataset folders (adjust paths as needed)\n",
    "train_path = 'train'\n",
    "test_path = 'test'\n",
    "valid_path = 'valid'\n",
    "\n",
    "# Get dimensions for each set\n",
    "train_dimensions = count_images_and_get_dimensions(train_path)\n",
    "test_dimensions = count_images_and_get_dimensions(test_path)\n",
    "valid_dimensions = count_images_and_get_dimensions(valid_path)\n",
    "\n",
    "# Print some dimension statistics\n",
    "print(f\"Train Image Dimensions (First 5): {train_dimensions[:5]}\")\n",
    "print(f\"Test Image Dimensions (First 5): {test_dimensions[:5]}\")\n",
    "print(f\"Valid Image Dimensions (First 5): {valid_dimensions[:5]}\")\n",
    "\n",
    "# If you want to calculate the average image size\n",
    "def calculate_avg_dimension(dimensions):\n",
    "    total_width = sum(dim[0] for dim in dimensions)\n",
    "    total_height = sum(dim[1] for dim in dimensions)\n",
    "    count = len(dimensions)\n",
    "    if count > 0:\n",
    "        avg_width = total_width / count\n",
    "        avg_height = total_height / count\n",
    "        return avg_width, avg_height\n",
    "    return None\n",
    "\n",
    "if train_dimensions:\n",
    "    avg_train_dim = calculate_avg_dimension(train_dimensions)\n",
    "    print(f\"Average Train Image Dimension: {avg_train_dim}\")\n",
    "if test_dimensions:\n",
    "    avg_test_dim = calculate_avg_dimension(test_dimensions)\n",
    "    print(f\"Average Test Image Dimension: {avg_test_dim}\")\n",
    "if valid_dimensions:\n",
    "    avg_valid_dim = calculate_avg_dimension(valid_dimensions)\n",
    "    print(f\"Average Valid Image Dimension: {avg_valid_dim}\")\n"
   ]
  },
  {
   "cell_type": "code",
   "execution_count": null,
   "metadata": {},
   "outputs": [],
   "source": []
  }
 ],
 "metadata": {
  "kernelspec": {
   "display_name": "Python 3.12.0 64-bit",
   "language": "python",
   "name": "python3"
  },
  "language_info": {
   "codemirror_mode": {
    "name": "ipython",
    "version": 3
   },
   "file_extension": ".py",
   "mimetype": "text/x-python",
   "name": "python",
   "nbconvert_exporter": "python",
   "pygments_lexer": "ipython3",
   "version": "3.12.0"
  },
  "orig_nbformat": 4,
  "vscode": {
   "interpreter": {
    "hash": "558421952cdfa11f85264f68d2955f94a0c6dd272aefb677ba76d6292a03e356"
   }
  }
 },
 "nbformat": 4,
 "nbformat_minor": 2
}
